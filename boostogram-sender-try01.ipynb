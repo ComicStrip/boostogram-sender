{
 "cells": [
  {
   "cell_type": "code",
   "execution_count": 2,
   "id": "f9fd04ff",
   "metadata": {},
   "outputs": [
    {
     "name": "stdout",
     "output_type": "stream",
     "text": [
      "Requirement already satisfied: pydantic in ./anaconda3/lib/python3.9/site-packages (1.9.0)\n",
      "Requirement already satisfied: typing-extensions>=3.7.4.3 in ./anaconda3/lib/python3.9/site-packages (from pydantic) (3.10.0.2)\n",
      "\u001b[33mWARNING: Running pip as the 'root' user can result in broken permissions and conflicting behaviour with the system package manager. It is recommended to use a virtual environment instead: https://pip.pypa.io/warnings/venv\u001b[0m\n"
     ]
    }
   ],
   "source": [
    "!pip3 install pydantic"
   ]
  },
  {
   "cell_type": "code",
   "execution_count": 3,
   "id": "1fac2024",
   "metadata": {},
   "outputs": [],
   "source": [
    "from pydantic import BaseModel\n",
    "from typing import Optional\n",
    "from typing import Any, Dict, List, Optional, OrderedDict, Set, Tuple, Union\n",
    "from uuid import UUID\n",
    "from pydantic.networks import AnyUrl\n",
    "\n",
    "class KeysendCustomRecord(BaseModel):\n",
    "    podcast: Optional[str]\n",
    "    feedID: Optional[int]\n",
    "    url: Optional[AnyUrl]\n",
    "    guid: Optional[UUID]\n",
    "    #\n",
    "    episode: Optional[str]\n",
    "    itemID: Optional[int]\n",
    "    episode_guid: Optional[str]\n",
    "    #\n",
    "    time: Optional[str]\n",
    "    ts: Optional[int]\n",
    "    action: Optional[str] = \"stream\"\n",
    "    app_name: Optional[str] = \"unknown\"\n",
    "    app_version: Optional[str]\n",
    "    boost_link: Optional[str]\n",
    "    message: Optional[str]\n",
    "    name: Optional[str]\n",
    "    pubkey: Optional[str]\n",
    "    sender_key: Optional[str]\n",
    "    sender_name: Optional[str]\n",
    "    sender_id: Optional[str]\n",
    "    sig_fields: Optional[str]\n",
    "    signature: Optional[str]\n",
    "    speed: Optional[str]\n",
    "    uuid: Optional[str]\n",
    "    value_msat: Optional[int]\n",
    "    cr_value_msat: Optional[int]\n",
    "    value_msat_total: Optional[int]\n",
    "\n"
   ]
  },
  {
   "cell_type": "code",
   "execution_count": 4,
   "id": "6bc33123",
   "metadata": {},
   "outputs": [],
   "source": [
    "def b64_hex_transform(plain_str: str) -> str:\n",
    "    \"\"\"Returns the b64 transformed version of a hex string\"\"\"\n",
    "    a_string = bytes.fromhex(plain_str)\n",
    "    return base64.b64encode(a_string).decode()\n"
   ]
  },
  {
   "cell_type": "code",
   "execution_count": 5,
   "id": "da11f4e4",
   "metadata": {},
   "outputs": [],
   "source": [
    "\n",
    "def b64_transform(plain_str: str) -> str:\n",
    "    \"\"\"Returns the b64 transformed version of a string\"\"\"\n",
    "    return base64.b64encode(plain_str.encode()).decode()\n"
   ]
  },
  {
   "cell_type": "code",
   "execution_count": 6,
   "id": "dfedf506",
   "metadata": {},
   "outputs": [],
   "source": [
    "def utf8len(s):\n",
    "    return len(s.encode(\"utf-8\"))\n",
    "\n"
   ]
  },
  {
   "cell_type": "code",
   "execution_count": 7,
   "id": "3ecb7059",
   "metadata": {},
   "outputs": [],
   "source": [
    "\n",
    "def utf8len_dict(a_dict: dict):\n",
    "    s = json.dumps(a_dict)\n",
    "    return len(s.encode(\"utf-8\"))\n"
   ]
  },
  {
   "cell_type": "code",
   "execution_count": 8,
   "id": "8bd9b354",
   "metadata": {},
   "outputs": [
    {
     "ename": "NameError",
     "evalue": "name 'Config' is not defined",
     "output_type": "error",
     "traceback": [
      "\u001b[0;31m---------------------------------------------------------------------------\u001b[0m",
      "\u001b[0;31mNameError\u001b[0m                                 Traceback (most recent call last)",
      "\u001b[0;32m/tmp/ipykernel_277471/1568821493.py\u001b[0m in \u001b[0;36m<module>\u001b[0;34m\u001b[0m\n\u001b[1;32m      2\u001b[0m     \u001b[0mamt\u001b[0m\u001b[0;34m:\u001b[0m \u001b[0mint\u001b[0m\u001b[0;34m,\u001b[0m\u001b[0;34m\u001b[0m\u001b[0;34m\u001b[0m\u001b[0m\n\u001b[1;32m      3\u001b[0m     \u001b[0mcustom_record\u001b[0m\u001b[0;34m:\u001b[0m \u001b[0mKeysendCustomRecord\u001b[0m\u001b[0;34m,\u001b[0m\u001b[0;34m\u001b[0m\u001b[0;34m\u001b[0m\u001b[0m\n\u001b[0;32m----> 4\u001b[0;31m     \u001b[0mdest_pubkey\u001b[0m\u001b[0;34m:\u001b[0m \u001b[0mstr\u001b[0m \u001b[0;34m=\u001b[0m \u001b[0mConfig\u001b[0m\u001b[0;34m.\u001b[0m\u001b[0mMY_UMBREL_PUBLIC_KEY\u001b[0m\u001b[0;34m,\u001b[0m\u001b[0;34m\u001b[0m\u001b[0;34m\u001b[0m\u001b[0m\n\u001b[0m\u001b[1;32m      5\u001b[0m     \u001b[0mhive_accname\u001b[0m\u001b[0;34m:\u001b[0m \u001b[0mstr\u001b[0m \u001b[0;34m=\u001b[0m \u001b[0;34m\"brianoflondon\"\u001b[0m\u001b[0;34m,\u001b[0m\u001b[0;34m\u001b[0m\u001b[0;34m\u001b[0m\u001b[0m\n\u001b[1;32m      6\u001b[0m     \u001b[0madd_text\u001b[0m\u001b[0;34m:\u001b[0m \u001b[0mint\u001b[0m \u001b[0;34m=\u001b[0m \u001b[0;36m0\u001b[0m\u001b[0;34m,\u001b[0m\u001b[0;34m\u001b[0m\u001b[0;34m\u001b[0m\u001b[0m\n",
      "\u001b[0;31mNameError\u001b[0m: name 'Config' is not defined"
     ]
    }
   ],
   "source": [
    "\n",
    "async def local_pay_keysend(\n",
    "    amt: int,\n",
    "    custom_record: KeysendCustomRecord,\n",
    "    dest_pubkey: str = Config.MY_UMBREL_PUBLIC_KEY,\n",
    "    hive_accname: str = \"brianoflondon\",\n",
    "    add_text: int = 0,\n",
    "):\n",
    "    \"\"\"Pay a keysend invoice using the chosen node\"\"\"\n",
    "    headers, cert = get_lnd_headers_cert(admin=True)\n",
    "\n",
    "    if add_text:\n",
    "        extra_text = token_hex(add_text)\n",
    "        extra_text = \" \" + extra_text\n",
    "        custom_record = get_custom_record(action=\"boost\", extra_text=extra_text)\n",
    "\n",
    "    # Base 64 encoded destination bytes\n",
    "    dest = b64_hex_transform(dest_pubkey)\n",
    "    cust_rec_str = json.dumps(custom_record.dict(exclude_unset=True, exclude_none=True))\n",
    "\n",
    "    logging.info(\n",
    "        json.dumps(custom_record.dict(exclude_unset=True, exclude_none=True), indent=2)\n",
    "    )\n",
    "\n",
    "    pre_image = token_hex(32)\n",
    "    payment_hash = sha256(bytes.fromhex(pre_image))\n",
    "\n",
    "    dest_custom_records = {\n",
    "        5482373484: b64_hex_transform(pre_image),\n",
    "        34349334: b64_transform(\"Go Podcasting!\"),\n",
    "        7629169: b64_transform(cust_rec_str),\n",
    "    }\n",
    "\n",
    "    if hive_accname:\n",
    "        dest_custom_records[\"818818\"] = b64_transform(hive_accname)\n",
    "\n",
    "    url = f\"{Config.LOCAL_LND_NODE_ADDRESS}v1/channels/transactions\"\n",
    "    data = {\n",
    "        \"dest\": dest,\n",
    "        \"amt\": amt,\n",
    "        \"payment_hash\": b64_hex_transform(payment_hash.hexdigest()),\n",
    "        \"dest_custom_records\": dest_custom_records,\n",
    "    }\n",
    "    # data = {\"dest\": dest, \"amt\": amt}\n",
    "    logging.info(\n",
    "        f\"Paying Keysend for {amt:,} sats to: {dest_pubkey} | \"\n",
    "        f\"Keysend size: {utf8len_dict(dest_custom_records)}\"\n",
    "    )\n",
    "    try:\n",
    "        async with httpx.AsyncClient(verify=cert) as client:\n",
    "            response = await client.post(\n",
    "                url=url, headers=headers, data=json.dumps(data)\n",
    "            )\n",
    "    except Exception as ex:\n",
    "        logging.error(f\"Keysend Error: {ex} {ex.__class__}\")\n",
    "        return\n",
    "\n",
    "    logging.info(json.dumps(response.json(), indent=2))\n",
    "    return response\n"
   ]
  },
  {
   "cell_type": "code",
   "execution_count": null,
   "id": "efb128cf",
   "metadata": {},
   "outputs": [],
   "source": [
    "\n",
    "\n",
    "def get_custom_record(\n",
    "    time_s: int = 59,\n",
    "    iteration: int = None,\n",
    "    action: str = \"stream\",\n",
    "    extra_text: str = None,\n",
    "):\n",
    "    \"\"\"Return the custom record for testing\"\"\"\n",
    "    custom_record = KeysendCustomRecord(\n",
    "        action=action,\n",
    "        app_name=\"V4Vapp Hive Bridge\",\n",
    "        # app_name=\"v4vapi-test-production\",\n",
    "        podcast=\"blocktvnews Podcast on Hive\",\n",
    "        name=\"blocktvnews via 3Speak\",\n",
    "        url=\"https://3speak.tv/rss/blocktvnews.xml\",\n",
    "        episode=\"THE DAPP SHOW - EPISODE 2 - DECENTRALAND & B2EXPAND\",\n",
    "        episode_guid=\"hive-100421/@blocktvnews/uxjnnxsp\",\n",
    "        itemID=\"3139296827\",\n",
    "        ts=time_s,\n",
    "        speed=\"1\",\n",
    "        feedID=\"4100216\",\n",
    "        message=f\"test script - iteration {iteration}{extra_text}\",\n",
    "    )\n",
    "    return custom_record\n"
   ]
  }
 ],
 "metadata": {
  "kernelspec": {
   "display_name": "Python 3 (ipykernel)",
   "language": "python",
   "name": "python3"
  },
  "language_info": {
   "codemirror_mode": {
    "name": "ipython",
    "version": 3
   },
   "file_extension": ".py",
   "mimetype": "text/x-python",
   "name": "python",
   "nbconvert_exporter": "python",
   "pygments_lexer": "ipython3",
   "version": "3.9.7"
  }
 },
 "nbformat": 4,
 "nbformat_minor": 5
}
